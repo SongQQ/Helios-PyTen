{
 "cells": [
  {
   "cell_type": "markdown",
   "metadata": {},
   "source": [
    "# <center>PyTen Package Tutorial</center>\n",
    "#### <center>Texas A&M University HELIOS Group</center>"
   ]
  },
  {
   "cell_type": "markdown",
   "metadata": {},
   "source": [
    "## Import PyTen Packge"
   ]
  },
  {
   "cell_type": "code",
   "execution_count": 1,
   "metadata": {
    "collapsed": false
   },
   "outputs": [],
   "source": [
    "import pyten"
   ]
  },
  {
   "cell_type": "markdown",
   "metadata": {},
   "source": [
    "## Quick Start"
   ]
  },
  {
   "cell_type": "code",
   "execution_count": 2,
   "metadata": {
    "collapsed": false
   },
   "outputs": [
    {
     "name": "stdout",
     "output_type": "stream",
     "text": [
      "Please choose the Scenario:\n",
      " 1. Basic Tensor Decomposition/Completion  2.Tensor Completion with Auxiliary Information 3.Dynamic Tensor Decomposition 0.Exit \n",
      "1\n",
      "Please input the FileName of the data:\n",
      "syntensor.csv\n",
      "\n",
      "\n",
      "Please choose the method you want to use to recover data(Input one number):\n",
      " 1. Tucker(ALS)  2.CP(ALS) 3.NNCP(Trace Norm + ADMM, Only For Recovery) 4.SiLRTC(Only For Recovery) 5.FaLRTC(Only For Recovery) 6.HaLRTC(Only For Recovery)  0.Exit \n",
      "1\n",
      "\n",
      "\n",
      "If there are missing values in the file? (Input one number)\n",
      "1. Yes, recover it  2.No, just decompose(Nonexistent number will be replaced by 0) 0.Exit\n",
      "1\n",
      "\n",
      "The original Tensor is: \n",
      "[[[    nan     nan     nan     nan]\n",
      "  [ 0.0193     nan  0.023   0.0138]]\n",
      "\n",
      " [[    nan  0.0209     nan  0.0192]\n",
      "  [ 0.2244  0.4468  0.4514  0.2389]]\n",
      "\n",
      " [[    nan  0.4337  0.3854     nan]\n",
      "  [ 0.0098  0.0198  0.0199  0.0105]]]\n",
      "\n",
      "The Recovered Tensor is: \n",
      "[[[  5.36419601e-03   1.15819293e-02   2.41556847e-02   5.87467447e-03]\n",
      "  [  1.93000000e-02   3.13164514e-02   2.30000000e-02   1.38000000e-02]]\n",
      "\n",
      " [[ -2.70223757e-03   2.09000000e-02   1.68232255e+00   1.92000000e-02]\n",
      "  [  2.24400000e-01   4.46800000e-01   4.51400000e-01   2.38900000e-01]]\n",
      "\n",
      " [[ -5.85222615e-04   4.33700000e-01   3.85400000e-01   4.15755916e-03]\n",
      "  [  9.80000000e-03   1.98000000e-02   1.99000000e-02   1.05000000e-02]]]\n"
     ]
    }
   ],
   "source": [
    "# This is a quick start without prior input\n",
    "[OriTensor, DeTensor, TenClass, RecTensor] = pyten.UI.helios()"
   ]
  },
  {
   "cell_type": "markdown",
   "metadata": {},
   "source": [
    "Show Results as follows:\n",
    "* Original Tensor"
   ]
  },
  {
   "cell_type": "code",
   "execution_count": 4,
   "metadata": {
    "collapsed": false
   },
   "outputs": [
    {
     "name": "stdout",
     "output_type": "stream",
     "text": [
      "[[[    nan     nan     nan     nan]\n",
      "  [ 0.0193     nan  0.023   0.0138]]\n",
      "\n",
      " [[    nan  0.0209     nan  0.0192]\n",
      "  [ 0.2244  0.4468  0.4514  0.2389]]\n",
      "\n",
      " [[    nan  0.4337  0.3854     nan]\n",
      "  [ 0.0098  0.0198  0.0199  0.0105]]]\n"
     ]
    }
   ],
   "source": [
    "print OriTensor  # Original Tensor"
   ]
  },
  {
   "cell_type": "markdown",
   "metadata": {},
   "source": [
    "* Full Tensor reconstructed by decomposed matrices"
   ]
  },
  {
   "cell_type": "code",
   "execution_count": 5,
   "metadata": {
    "collapsed": false
   },
   "outputs": [
    {
     "name": "stdout",
     "output_type": "stream",
     "text": [
      "[[[  5.36419601e-03   1.15819293e-02   2.41556847e-02   5.87467447e-03]\n",
      "  [  1.60617081e-02   3.13164514e-02   2.29674417e-02   1.69441312e-02]]\n",
      "\n",
      " [[ -2.70223757e-03   1.09601902e-01   1.68232255e+00   1.92195701e-02]\n",
      "  [  2.16621456e-01   4.30914180e-01   4.35331809e-01   2.30166163e-01]]\n",
      "\n",
      " [[ -5.85222615e-04   2.37113771e-02   3.63972026e-01   4.15755916e-03]\n",
      "  [  4.68648339e-02   9.32259289e-02   9.41826071e-02   4.97951684e-02]]]\n"
     ]
    }
   ],
   "source": [
    "print DeTensor.data  # Full Tensor reconstructed by decomposed matrices"
   ]
  },
  {
   "cell_type": "markdown",
   "metadata": {},
   "source": [
    "* Final Decomposition Results e.g. Ttensor or Ktensor"
   ]
  },
  {
   "cell_type": "code",
   "execution_count": 6,
   "metadata": {
    "collapsed": false
   },
   "outputs": [
    {
     "name": "stdout",
     "output_type": "stream",
     "text": [
      "Ttensor of size (3, 2, 4)\n",
      "Core = Tensor of size (2, 2, 2) with 8 elements.\n",
      " \n",
      "u[0] =\n",
      "[[-0.02147233 -0.99976944]\n",
      " [-0.97716179  0.02096416]\n",
      " [-0.21140903  0.00464502]]\n",
      "u[1] =\n",
      "[[ 0.95745405 -0.28858577]\n",
      " [ 0.28858577  0.95745405]]\n",
      "u[2] =\n",
      "[[ 0.03428678 -0.42558577]\n",
      " [ 0.13092771 -0.77884123]\n",
      " [ 0.98961198  0.13930304]\n",
      " [ 0.04848165 -0.4391785 ]]\n",
      "\n"
     ]
    }
   ],
   "source": [
    "print TenClass  # Final Decomposition Results e.g. Ttensor or Ktensor"
   ]
  },
  {
   "cell_type": "markdown",
   "metadata": {},
   "source": [
    "* Recovered Tensor (Completed Tensor)"
   ]
  },
  {
   "cell_type": "code",
   "execution_count": 7,
   "metadata": {
    "collapsed": false
   },
   "outputs": [
    {
     "name": "stdout",
     "output_type": "stream",
     "text": [
      "[[[  5.36419601e-03   1.15819293e-02   2.41556847e-02   5.87467447e-03]\n",
      "  [  1.93000000e-02   3.13164514e-02   2.30000000e-02   1.38000000e-02]]\n",
      "\n",
      " [[ -2.70223757e-03   2.09000000e-02   1.68232255e+00   1.92000000e-02]\n",
      "  [  2.24400000e-01   4.46800000e-01   4.51400000e-01   2.38900000e-01]]\n",
      "\n",
      " [[ -5.85222615e-04   4.33700000e-01   3.85400000e-01   4.15755916e-03]\n",
      "  [  9.80000000e-03   1.98000000e-02   1.99000000e-02   1.05000000e-02]]]\n"
     ]
    }
   ],
   "source": [
    "print RecTensor.data  # Recovered Tensor (Completed Tensor)"
   ]
  },
  {
   "cell_type": "markdown",
   "metadata": {
    "collapsed": true
   },
   "source": [
    "## Three UI Functions For Three Scenarios\n",
    "### Scenario 1: Basic Tensor completion or decomposition."
   ]
  },
  {
   "cell_type": "code",
   "execution_count": 8,
   "metadata": {
    "collapsed": false
   },
   "outputs": [
    {
     "name": "stdout",
     "output_type": "stream",
     "text": [
      "Please input the FileName of the data:\n",
      "syntensor.csv\n",
      "\n",
      "\n",
      "Please choose the method you want to use to recover data(Input one number):\n",
      " 1. Tucker(ALS)  2.CP(ALS) 3.NNCP(Trace Norm + ADMM, Only For Recovery) 4.SiLRTC(Only For Recovery) 5.FaLRTC(Only For Recovery) 6.HaLRTC(Only For Recovery)  0.Exit \n",
      "2\n",
      "\n",
      "\n",
      "If there are missing values in the file? (Input one number)\n",
      "1. Yes, recover it  2.No, just decompose(Nonexistent number will be replaced by 0) 0.Exit\n",
      "1\n",
      "\n",
      "The original Tensor is: \n",
      "[[[    nan     nan     nan     nan]\n",
      "  [ 0.0193     nan  0.023   0.0138]]\n",
      "\n",
      " [[    nan  0.0209     nan  0.0192]\n",
      "  [ 0.2244  0.4468  0.4514  0.2389]]\n",
      "\n",
      " [[    nan  0.4337  0.3854     nan]\n",
      "  [ 0.0098  0.0198  0.0199  0.0105]]]\n",
      "\n",
      "The Recovered Tensor is: \n",
      "[[[-0.00173744 -0.00422459 -0.00260547 -0.00171897]\n",
      "  [ 0.0193      0.02665745  0.023       0.0138    ]]\n",
      "\n",
      " [[ 0.01522447  0.0209      0.04088197  0.0192    ]\n",
      "  [ 0.2244      0.4468      0.4514      0.2389    ]]\n",
      "\n",
      " [[ 0.20577687  0.4337      0.3854      0.2163867 ]\n",
      "  [ 0.0098      0.0198      0.0199      0.0105    ]]]\n"
     ]
    }
   ],
   "source": [
    "[OriTensor, DeTensor, TenClass, RecTensor] = pyten.UI.basic()"
   ]
  },
  {
   "cell_type": "markdown",
   "metadata": {},
   "source": [
    "### Scenario 2: Tensor completion or decomposition with auxiliary information"
   ]
  },
  {
   "cell_type": "code",
   "execution_count": 11,
   "metadata": {
    "collapsed": false
   },
   "outputs": [
    {
     "name": "stdout",
     "output_type": "stream",
     "text": [
      "Please input the FileName of the Tensor data:\n",
      "syntensor.csv\n",
      "\n",
      "\n",
      "Please choose the method you want to use to recover data(Input one number):\n",
      " 1. AirCP  2.CMTF 0.Exit \n",
      "1\n",
      "\n",
      "\n",
      "Please input all the modes that have Auxiliary Similarity Matrix (separate with space. Input 'None' if no auxiliary info.)\n",
      "None\n",
      "If there are missing values in the file? (Input one number)\n",
      "1. Yes, recover it  2.No, just decompose(Nonexistent number will be replaced by 0) 0.Exit\n",
      "1\n",
      "AirCP: iterations=4, difference=4.25458316215e-14\n",
      "\n",
      "The original Tensor is: \n",
      "[[[    nan     nan     nan     nan]\n",
      "  [ 0.0193     nan  0.023   0.0138]]\n",
      "\n",
      " [[    nan  0.0209     nan  0.0192]\n",
      "  [ 0.2244  0.4468  0.4514  0.2389]]\n",
      "\n",
      " [[    nan  0.4337  0.3854     nan]\n",
      "  [ 0.0098  0.0198  0.0199  0.0105]]]\n",
      "\n",
      "The Recovered Tensor is: \n",
      "[[[  2.11431057e-20   4.20984494e-20   4.04741882e-20   2.45562224e-20]\n",
      "  [  1.93000000e-02   9.33334313e-20   2.30000000e-02   1.38000000e-02]]\n",
      "\n",
      " [[  2.39923722e-19   2.09000000e-02   4.63533286e-19   1.92000000e-02]\n",
      "  [  2.24400000e-01   4.46800000e-01   4.51400000e-01   2.38900000e-01]]\n",
      "\n",
      " [[  1.12997361e-19   4.33700000e-01   3.85400000e-01   1.31380720e-19]\n",
      "  [  9.80000000e-03   1.98000000e-02   1.99000000e-02   1.05000000e-02]]]\n"
     ]
    }
   ],
   "source": [
    "[OriTensor, DeTensor, TenClass, RecTensor] = pyten.UI.auxiliary()"
   ]
  },
  {
   "cell_type": "markdown",
   "metadata": {},
   "source": [
    "### Scenario 3: Dynamic/Online/Streaming Tensor completion or decomposition"
   ]
  },
  {
   "cell_type": "code",
   "execution_count": 12,
   "metadata": {
    "collapsed": false
   },
   "outputs": [
    {
     "name": "stdout",
     "output_type": "stream",
     "text": [
      "Please input the FileName of the data:\n",
      "syntensor.csv\n",
      "\n",
      "\n",
      "Please choose the method you want to use (Input one number):\n",
      " 1. onlineCP(only for decomposition)  2.OLSGD 0.Exit \n",
      "1\n",
      "\n",
      "\n",
      "If there are former decomposition or recovery result (.npy file):\n",
      " 1. Yes  2.No 0.Exit \n",
      "2\n",
      "\n",
      "CP_ALS:\n",
      "\n",
      "CP_ALS: iterations=42, f=0.968019474699, f-delta=8.26504065188e-09\n",
      "\n",
      "The original Tensor is: \n",
      "[[[    nan     nan     nan     nan]\n",
      "  [ 0.0193     nan  0.023   0.0138]]\n",
      "\n",
      " [[    nan  0.0209     nan  0.0192]\n",
      "  [ 0.2244  0.4468  0.4514  0.2389]]\n",
      "\n",
      " [[    nan  0.4337  0.3854     nan]\n",
      "  [ 0.0098  0.0198  0.0199  0.0105]]]\n",
      "\n",
      "The Decomposed Result is: \n",
      "[array([[ -8.09995873e-04,   2.87410936e-02],\n",
      "       [ -7.58855491e-03,   8.15157310e-01],\n",
      "       [  5.66073869e-01,   3.55594569e-02]]), array([[  1.00000000e+00,   3.24680048e-02],\n",
      "       [  6.68461565e-04,   8.80131434e-01]]), array([[ -4.41267378e-04,   3.12909475e-01],\n",
      "       [  7.64642525e-01,   6.22524427e-01],\n",
      "       [  6.79819173e-01,   6.28936381e-01],\n",
      "       [ -9.25239726e-04,   3.33785825e-01]])]\n",
      "If you want to save the result into .npy file):\n",
      " 1. Yes  2.No  0.Exit \n",
      "2\n"
     ]
    }
   ],
   "source": [
    "[OriTensor, DeTensor, TenClass, RecTensor] = pyten.UI.dynamic()"
   ]
  },
  {
   "cell_type": "markdown",
   "metadata": {},
   "source": [
    "## Usage of Main Functions\n",
    "### Function: create\n",
    "1. Create Tensor Completion Problem"
   ]
  },
  {
   "cell_type": "code",
   "execution_count": 13,
   "metadata": {
    "collapsed": true
   },
   "outputs": [],
   "source": [
    "from pyten.tools import create  # Import the problem creation function\n",
    "\n",
    "problem = 'basic'  # Problem Definition\n",
    "siz = [20, 20, 20]  # Size of the Created Synthetic Tensor\n",
    "r = [4, 4, 4]  # Rank of the Created Synthetic Tensor\n",
    "miss = 0.8  # Missing Percentage\n",
    "tp = 'CP'  # Solution Format (Creating Method) of the Created Synthetic Tensor\n",
    "[X1, Omega1, sol1] = create(problem, siz, r, miss, tp)"
   ]
  },
  {
   "cell_type": "markdown",
   "metadata": {},
   "source": [
    "### Scenario 1: Basic Tensor Completion/Decomposition\n",
    "#### 1. Solve Synthetic Completion Problem"
   ]
  },
  {
   "cell_type": "code",
   "execution_count": 14,
   "metadata": {
    "collapsed": false
   },
   "outputs": [
    {
     "name": "stdout",
     "output_type": "stream",
     "text": [
      "\n",
      "CP_ALS:\n",
      "\n",
      "CP_ALS: iterations=100, f-delta=0.0339448408822\n",
      "\n",
      "Tucker Alternating Least-Squares:\n",
      "\n",
      " Tucker_ALS: iterations=100, fit = 0.905352452559, fit-delta = 0.0182081396143\n",
      "\n",
      "FaLRTC ends: total iterations = 100   difference = [  3.15018662e-05]\n",
      "\n",
      "\n",
      "SiLRTC ends: total iterations = 41   difference = [  9.15793427e-06]\n",
      "\n",
      "\n",
      "HaLRTC ends: total iterations = 2   difference = [ 0.]\n",
      "\n",
      "\n",
      "TNCP: iterations=286, difference=9.91041132245e-06\n",
      "\n",
      "The Relative Error of the Six Methods are: 0.0300208389496 0.203088424508 0.248158484415 1.0 1.0 0.00412317955676\n"
     ]
    }
   ],
   "source": [
    "from pyten.tools import create  # Import the problem creation function\n",
    "\n",
    "problem = 'basic'  # Define Problem As Basic Tensor Completion Problem\n",
    "siz = [20, 20, 20]  # Size of the Created Synthetic Tensor\n",
    "r = [4, 4, 4]  # Rank of the Created Synthetic Tensor\n",
    "miss = 0.8  # Missing Percentage\n",
    "tp = 'CP'  # Define Solution Format of the Created Synthetic Tensor As 'CP decomposition'\n",
    "[X1, Omega1, sol1] = create(problem, siz, r, miss, tp)\n",
    "\n",
    "# Basic Tensor Completion with methods: CP-ALS,Tucker-ALS, FaLRTC, SiLRTC, HaLRTC, TNCP\n",
    "from pyten.method import *\n",
    "\n",
    "r = 4  # Rank for CP-based methods\n",
    "R = [4, 4, 4]  # Rank for tucker-based methods\n",
    "# P-ALS\n",
    "[T1, rX1] = cp_als(X1, r, Omega1)  # if no missing data just omit Omega1 by using [T1,rX1]=cp_als.cp_als(X1,r)\n",
    "# print sol1.totensor().data\n",
    "# print rX1.data\n",
    "\n",
    "# Tucker-ALS\n",
    "[T2, rX2] = tucker_als(X1, R, Omega1)  # if no missing data just omit Omega1\n",
    "# FalRTC, SiLRTC, HaLRTC\n",
    "rX3 = falrtc(X1, Omega1)\n",
    "rX4 = silrtc(X1, Omega1)\n",
    "rX5 = halrtc(X1, Omega1)\n",
    "# TNCP\n",
    "self1 = TNCP(X1, Omega1, rank=r)\n",
    "self1.run()\n",
    "\n",
    "# Error Testing\n",
    "from pyten.tools import tenerror\n",
    "\n",
    "realX = sol1.totensor()\n",
    "[Err1, ReErr11, ReErr21] = tenerror(rX1, realX, Omega1)\n",
    "[Err2, ReErr12, ReErr22] = tenerror(rX2, realX, Omega1)\n",
    "[Err3, ReErr13, ReErr23] = tenerror(rX3, realX, Omega1)\n",
    "[Err4, ReErr14, ReErr24] = tenerror(rX4, realX, Omega1)\n",
    "[Err5, ReErr15, ReErr25] = tenerror(rX5, realX, Omega1)\n",
    "[Err6, ReErr16, ReErr26] = tenerror(self1.X, realX, Omega1)\n",
    "print '\\n', 'The Relative Error of the Six Methods are:', ReErr21, ReErr22, ReErr23, ReErr24, ReErr25, ReErr26"
   ]
  },
  {
   "cell_type": "markdown",
   "metadata": {},
   "source": [
    "#### 2. Real Problem - Image Recovery"
   ]
  },
  {
   "cell_type": "code",
   "execution_count": 16,
   "metadata": {
    "collapsed": false
   },
   "outputs": [
    {
     "name": "stdout",
     "output_type": "stream",
     "text": [
      "\n",
      "CP_ALS:\n",
      "\n",
      "CP_ALS: iterations=100, f-delta=6.69287507888\n",
      "\n",
      "Tucker Alternating Least-Squares:\n",
      "\n",
      " Tucker_ALS: iterations=100, fit = 0.469672142569, fit-delta = 0.170164637317\n",
      "\n",
      "FaLRTC ends: total iterations = 100   difference = [ 0.0003211]\n",
      "\n",
      "\n",
      "SiLRTC ends: total iterations = 100   difference = [ 0.00051051]\n",
      "\n",
      "\n",
      "HaLRTC ends: total iterations = 20   difference = [  3.65196896e-06]\n",
      "\n",
      "\n",
      "TNCP: iterations=486, difference=9.64393311028e-06\n",
      "\n",
      "The Relative Error of the Six Methods are: 0.937377236795 1.04476470657 0.756331723593 0.999998266198 0.999998266198 0.92370940921\n"
     ]
    }
   ],
   "source": [
    "import matplotlib.image as mpimg  # Use it to load image\n",
    "import numpy as np\n",
    "\n",
    "lena = mpimg.imread(\"testImg.png\")\n",
    "im = np.double(np.uint8(lena * 255))\n",
    "im = im[0:50, 0:50, 0:3]\n",
    "\n",
    "from pyten.tenclass import Tensor  # Use it to construct Tensor object\n",
    "\n",
    "X1 = Tensor(im)   # Construct Image Tensor to be Completed\n",
    "X0 = X1.data.copy()\n",
    "X0 = Tensor(X0)   # Save the Ground Truth\n",
    "Omega1 = (im < 100) * 1.0  # Missing index Tensor\n",
    "X1.data[Omega1 == 0] = 0\n",
    "\n",
    "\n",
    "# Basic Tensor Completion with methods: CP-ALS, Tucker-ALS, FaLRTC, SiLRTC, HaLRTC, TNCP\n",
    "from pyten.method import *\n",
    "\n",
    "r = 10\n",
    "R = [10, 10, 3]  # Rank for tucker-based methods\n",
    "[T1, rX1] = cp_als(X1, r, Omega1, maxiter=100, printitn=100)\n",
    "[T2, rX2] = tucker_als(X1, R, Omega1, maxiter=100, printitn=100)\n",
    "alpha = np.array([1.0, 1.0, 1e-3])\n",
    "alpha = alpha / sum(alpha)\n",
    "rX3 = falrtc(X1, Omega1, maxIter=100, alpha=alpha)\n",
    "rX4 = silrtc(X1, Omega1, maxIter=100, alpha=alpha)\n",
    "rX5 = halrtc(X1, Omega1, maxIter=100, alpha=alpha)\n",
    "self1 = TNCP(X1, Omega1, rank=r)\n",
    "self1.run()\n",
    "\n",
    "# Error Testing\n",
    "from pyten.tools import tenerror\n",
    "\n",
    "realX = X0\n",
    "[Err1, ReErr11, ReErr21] = tenerror(rX1, realX, Omega1)\n",
    "[Err2, ReErr12, ReErr22] = tenerror(rX2, realX, Omega1)\n",
    "[Err3, ReErr13, ReErr23] = tenerror(rX3, realX, Omega1)\n",
    "[Err4, ReErr14, ReErr24] = tenerror(rX4, realX, Omega1)\n",
    "[Err5, ReErr15, ReErr25] = tenerror(rX5, realX, Omega1)\n",
    "[Err6, ReErr16, ReErr26] = tenerror(self1.X, realX, Omega1)\n",
    "print '\\n', 'The Relative Error of the Six Methods are:', ReErr21, ReErr22, ReErr23, ReErr24, ReErr25, ReErr26\n"
   ]
  },
  {
   "cell_type": "markdown",
   "metadata": {},
   "source": [
    "### Scenario 2: Tensor Completion/Decomposition with Auxiliary Information\n",
    "#### 1. Use  AirCP Method to solve Tensor Completion With Auxiliary Similarity Matrices"
   ]
  },
  {
   "cell_type": "code",
   "execution_count": 17,
   "metadata": {
    "collapsed": false
   },
   "outputs": [
    {
     "name": "stdout",
     "output_type": "stream",
     "text": [
      "AirCP: iterations=405, difference=9.71552958233e-06\n",
      "AirCP: iterations=419, difference=9.98775316422e-06\n",
      "\n",
      "The Relative Error of the Two Methods are: 0.0449095484235 0.0498219465437\n"
     ]
    }
   ],
   "source": [
    "from pyten.method import AirCP  # Import AirCP\n",
    "from pyten.tools import create  # Import the problem creation function\n",
    "\n",
    "problem = 'auxiliary'  # Define Problem As Basic Tensor Completion Problem\n",
    "siz = [20, 20, 20]  # Size of the Created Synthetic Tensor\n",
    "r = [4, 4, 4]  # Rank of the Created Synthetic Tensor\n",
    "miss = 0.8  # Missing Percentage\n",
    "tp = 'sim'  # Define Auxiliary Information As 'Similarity Matrices'\n",
    "# Construct Similarity Matrices (if 'None', then it will use the default Similarity Matrices)\n",
    "# aux = [np.diag(np.ones(siz[n]-1), -1)+np.diag(np.ones(siz[n]-1), 1) for n in range(dims)]\n",
    "aux = None\n",
    "[X1, Omega1, sol1, sim_matrices] = create(problem, siz, r, miss, tp, aux=aux)\n",
    "\n",
    "self = AirCP(X1, Omega1, r, simMats=sim_matrices)\n",
    "self.run()\n",
    "self_no_aux = AirCP(X1, Omega1, r)\n",
    "self_no_aux.run()\n",
    "\n",
    "# Error Testing\n",
    "from pyten.tools import tenerror\n",
    "\n",
    "realX = sol1.totensor()\n",
    "[Err1, ReErr11, ReErr21] = tenerror(self.X, realX, Omega1)\n",
    "[Err2, ReErr12, ReErr22] = tenerror(self_no_aux.X, realX, Omega1)\n",
    "print '\\n','The Relative Error of the Two Methods are:', ReErr11, ReErr12\n"
   ]
  },
  {
   "cell_type": "markdown",
   "metadata": {},
   "source": [
    "#### 2. Use  CMTF Method to solve Tensor Completion With Coupled Matrices"
   ]
  },
  {
   "cell_type": "code",
   "execution_count": 18,
   "metadata": {
    "collapsed": false
   },
   "outputs": [
    {
     "name": "stdout",
     "output_type": "stream",
     "text": [
      "\n",
      "CMTF:\n",
      "\n",
      "CMTF: iterations=100, f-delta=1.8816390529\n",
      "CMTF: iterations=200, f-delta=0.594719871935\n",
      "CMTF: iterations=300, f-delta=0.302207645634\n",
      "CMTF: iterations=400, f-delta=0.379488775109\n",
      "CMTF: iterations=500, f-delta=0.909666426043\n",
      "\n",
      "CP_ALS:\n",
      "\n",
      "CP_ALS: iterations=100, f-delta=0.0146474854183\n",
      "CP_ALS: iterations=200, f-delta=0.00203955632878\n",
      "CP_ALS: iterations=300, f-delta=0.00118894804588\n",
      "CP_ALS: iterations=400, f-delta=0.000790724804106\n",
      "CP_ALS: iterations=500, f-delta=0.000551860811849\n",
      "\n",
      "The Relative Error of the Two Methods are: 0.111786036229 0.0029689406707\n"
     ]
    }
   ],
   "source": [
    "from pyten.method import cmtf\n",
    "from pyten.tools import create  # Import the problem creation function\n",
    "import numpy as np\n",
    "\n",
    "problem = 'auxiliary'  # Define Problem As Basic Tensor Completion Problem\n",
    "siz = [20, 20, 20]  # Size of the Created Synthetic Tensor\n",
    "r = [4, 4, 4]  # Rank of the Created Synthetic Tensor\n",
    "miss = 0.8  # Missing Percentage\n",
    "tp = 'couple'  # Define Auxiliary Information As 'Similarity Matrices'\n",
    "# Construct Similarity Matrices (if 'None', then it will use the default Similarity Matrices)\n",
    "dims = 3\n",
    "[X1, Omega1, sol1, coupled_matrices] = create(problem, siz, r, miss, tp)\n",
    "\n",
    "[T1, Rec1, V1] = cmtf(X1, coupled_matrices, [1, 2, 3], r, Omega1, maxiter=500)\n",
    "[T2, Rec2, V2] = cmtf(X1, None, None, r, Omega1, maxiter=500)\n",
    "fit_coupled_matrices_1 = [np.dot(T1.Us[n], V1[n].T) for n in range(dims)]\n",
    "\n",
    "# Error Testing\n",
    "from pyten.tools import tenerror\n",
    "\n",
    "realX = sol1.totensor()\n",
    "[Err1, ReErr11, ReErr21] = tenerror(Rec1, realX, Omega1)\n",
    "[Err1, ReErr12, ReErr22] = tenerror(Rec2, realX, Omega1)\n",
    "print '\\n','The Relative Error of the Two Methods are:', ReErr11, ReErr12"
   ]
  },
  {
   "cell_type": "markdown",
   "metadata": {},
   "source": [
    "### Scenario 3: Dynamic Tensor Decomposition/Completion"
   ]
  },
  {
   "cell_type": "code",
   "execution_count": 19,
   "metadata": {
    "collapsed": false
   },
   "outputs": [
    {
     "name": "stdout",
     "output_type": "stream",
     "text": [
      "\n",
      "CP_ALS:\n",
      "\n",
      "CP_ALS: iterations=100, f=0.247022222543, f-delta=3.07595118155e-05\n",
      "168483.054778 6273.93136731 6956.77678839\n",
      "39.3607170086 1.92478774564 2.16851751468\n",
      "23.8776902888 0.967379097904 1.06981125749\n",
      "28.4928290082 0.895845446384 1.00324310955\n",
      "24.6956914088 0.887524791567 1.0009380212\n",
      "25.882510805 0.897823327078 1.00423099729\n",
      "12.6966740493 0.893965752495 1.00014620856\n",
      "32.8171867268 0.894934521631 0.999920117901\n",
      "36.4418243405 0.894945725459 0.99991406763\n",
      "34.8890398511 0.932485252995 1.04681679048\n"
     ]
    }
   ],
   "source": [
    "from pyten.method import onlineCP, OLSGD\n",
    "from pyten.tools import create  # Import the problem creation function\n",
    "from pyten.tools import tenerror\n",
    "import numpy as np\n",
    "\n",
    "problem = 'dynamic'  # Define Problem As Dynamic Tensor Completion Problem\n",
    "time_steps = 10  # Define the Number of Total Time Steps\n",
    "siz = np.array([[1, 50, 50] for t in range(time_steps)])\n",
    "r = [4, 4, 4]  # Rank of the Created Synthetic Tensor\n",
    "miss = 0.8  # Missing Percentage\n",
    "# Create a Dynmaic Tensor Completion Problem\n",
    "[X1, Omega1, sol1, siz, time_steps] = create(problem, siz, r, miss, timestep=time_steps)\n",
    "\n",
    "for t in range(time_steps):\n",
    "    if t == 0:  # Initial Step\n",
    "        self1 = OLSGD(rank=r, mu=0.01, lmbda=0.1)  # OLSGD assume time is the first mode.\n",
    "        self1.update(X1[t], Omega1[t])  # Complete the initial tensor using OLSGD method.\n",
    "        # onlineCP assume time is the last mode.\n",
    "        self = onlineCP(X1[t].permute([1, 2, 0]), rank=r, tol=1e-8)  # Just decompose without completion using onlineCP\n",
    "    else:\n",
    "        self1.update(X1[t], Omega1[t])  # Update Decomposition as well as Completion using OLSGD.\n",
    "        self.update(X1[t].permute([1, 2, 0]))  # Update Decomposition of onlineCP.\n",
    "    # Test Current Step OLSGD Completion Error\n",
    "    realX = sol1[t].totensor()\n",
    "    [Err1, ReErr11, ReErr21] = tenerror(self1.recx, realX, Omega1[t])\n",
    "    print Err1, ReErr11, ReErr21"
   ]
  },
  {
   "cell_type": "code",
   "execution_count": null,
   "metadata": {
    "collapsed": true
   },
   "outputs": [],
   "source": []
  }
 ],
 "metadata": {
  "kernelspec": {
   "display_name": "Python 2",
   "language": "python",
   "name": "python2"
  },
  "language_info": {
   "codemirror_mode": {
    "name": "ipython",
    "version": 2
   },
   "file_extension": ".py",
   "mimetype": "text/x-python",
   "name": "python",
   "nbconvert_exporter": "python",
   "pygments_lexer": "ipython2",
   "version": "2.7.13"
  }
 },
 "nbformat": 4,
 "nbformat_minor": 2
}
